{
 "cells": [
  {
   "cell_type": "code",
   "execution_count": 1,
   "id": "2ae855c3-bd6e-44d8-86d5-d7234fbb64d8",
   "metadata": {},
   "outputs": [],
   "source": [
    "import numpy as np"
   ]
  },
  {
   "cell_type": "markdown",
   "id": "f3b1cebf-4382-4ac9-8a10-590d8761498a",
   "metadata": {},
   "source": [
    "### Task #1: Create a one-dimensional array (vector) with the first 10 natural numbers and print its values."
   ]
  },
  {
   "cell_type": "code",
   "execution_count": 2,
   "id": "9555704f-4162-4895-9737-b287d9526116",
   "metadata": {},
   "outputs": [
    {
     "name": "stdout",
     "output_type": "stream",
     "text": [
      "Vector with the first 10 natural numbers: [ 1  2  3  4  5  6  7  8  9 10]\n"
     ]
    }
   ],
   "source": [
    "array = np.arange(1, 11)\n",
    "print(f\"Vector with the first 10 natural numbers: {array}\")"
   ]
  },
  {
   "cell_type": "markdown",
   "id": "e43e0990-6816-4f7e-a23a-75de08682830",
   "metadata": {},
   "source": [
    "### Task #2: Create a two-dimensional array (matrix) of size 3x3, fill it with zeros, and print its values."
   ]
  },
  {
   "cell_type": "code",
   "execution_count": 3,
   "id": "9f3ff7ce-790d-4f9e-9a59-af5bd330e138",
   "metadata": {},
   "outputs": [
    {
     "name": "stdout",
     "output_type": "stream",
     "text": [
      "Zero matrix:\n",
      "[[0. 0. 0.]\n",
      " [0. 0. 0.]\n",
      " [0. 0. 0.]]\n"
     ]
    }
   ],
   "source": [
    "array = np.zeros((3,3))\n",
    "print(f\"Zero matrix:\\n{array}\")"
   ]
  },
  {
   "cell_type": "markdown",
   "id": "a9e5fd28-862b-4c43-861a-2a8198ea5d26",
   "metadata": {},
   "source": [
    "### Task #3: Create an array of size 5x5, fill it with random integers in the range from 1 to 10, and print its values."
   ]
  },
  {
   "cell_type": "code",
   "execution_count": 4,
   "id": "2d9e5fb5-2f6a-40c1-9087-bbfb283f7605",
   "metadata": {},
   "outputs": [
    {
     "name": "stdout",
     "output_type": "stream",
     "text": [
      "An array of 5x5 random numbers from 1 to 10:\n",
      "[[4 9 7 1 1]\n",
      " [7 3 3 3 4]\n",
      " [7 1 9 9 5]\n",
      " [1 6 9 3 2]\n",
      " [7 7 5 3 3]]\n"
     ]
    }
   ],
   "source": [
    "array = np.random.randint(1, 10, size=(5, 5))\n",
    "print(f\"An array of 5x5 random numbers from 1 to 10:\\n{array}\")"
   ]
  },
  {
   "cell_type": "markdown",
   "id": "42393d0f-d14a-4dfc-82c9-5cab51a84df0",
   "metadata": {},
   "source": [
    "### Task #4: Create an array of size 4x4, fill it with random floating-point numbers in the range from 0 to 1, and print its values."
   ]
  },
  {
   "cell_type": "code",
   "execution_count": 5,
   "id": "8e15a23f-f8a1-495c-bcf3-38027d491ea6",
   "metadata": {},
   "outputs": [
    {
     "name": "stdout",
     "output_type": "stream",
     "text": [
      "An array of 4x4 random numbers from 0 to 1:\n",
      "[[0.78086311 0.67848106 0.332387   0.34415916]\n",
      " [0.94302777 0.47138089 0.15579405 0.77700209]\n",
      " [0.69013319 0.41196484 0.38518301 0.49813574]\n",
      " [0.25380392 0.92059978 0.64783405 0.76908766]]\n"
     ]
    }
   ],
   "source": [
    "array = np.random.random((4, 4))\n",
    "print(f\"An array of 4x4 random numbers from 0 to 1:\\n{array}\")"
   ]
  },
  {
   "cell_type": "markdown",
   "id": "44b4af1c-5366-4a41-9c57-248a493f629a",
   "metadata": {},
   "source": [
    "### Task #5: Create two one-dimensional arrays of size 5, fill them with random integers in the range from 1 to 10, and perform element-wise addition, subtraction, and multiplication on them."
   ]
  },
  {
   "cell_type": "code",
   "execution_count": 6,
   "id": "04e072e1-68a9-47e7-9499-7958008654b8",
   "metadata": {},
   "outputs": [
    {
     "name": "stdout",
     "output_type": "stream",
     "text": [
      "First array: [3 1 9 6 8]\n",
      "Second array: [1 5 4 8 5]\n",
      "Addition: [ 4  6 13 14 13]\n",
      "Subtraction: [ 2 -4  5 -2  3]\n",
      "Multiplication: [ 3  5 36 48 40]\n"
     ]
    }
   ],
   "source": [
    "array_1 = np.random.randint(1, 10, size=5)\n",
    "array_2 = np.random.randint(1, 10, size=5)\n",
    "\n",
    "add_array = array_1 + array_2\n",
    "sub_array = array_1 - array_2\n",
    "mul_array = array_1 * array_2\n",
    "\n",
    "print(f\"First array: {array_1}\\nSecond array: {array_2}\\n\\\n",
    "Addition: {add_array}\\nSubtraction: {sub_array}\\n\\\n",
    "Multiplication: {mul_array}\")"
   ]
  },
  {
   "cell_type": "markdown",
   "id": "a4a5a1cf-087a-4de1-afc1-23ac1300d305",
   "metadata": {},
   "source": [
    "### Task #6: Create two vectors of size 7, fill them with arbitrary numbers, and find their dot product."
   ]
  },
  {
   "cell_type": "code",
   "execution_count": 7,
   "id": "fab89e05-b7b5-4150-8db0-48da35db6957",
   "metadata": {},
   "outputs": [
    {
     "name": "stdout",
     "output_type": "stream",
     "text": [
      "First vector: [1 7 9 2 4 5 6]\n",
      "Second vector: [0 9 4 3 5 4 5]\n",
      "Dot product: 175\n"
     ]
    }
   ],
   "source": [
    "vector_1 = np.random.randint(0, 10, size=7)\n",
    "vector_2 = np.random.randint(0, 10, size=7)\n",
    "\n",
    "dot_product = np.dot(vector_1, vector_2)\n",
    "\n",
    "print(f\"First vector: {vector_1}\\nSecond vector: {vector_2}\\nDot product: {dot_product}\")"
   ]
  },
  {
   "cell_type": "markdown",
   "id": "0046d470-2286-4d68-9346-1eac9d6350ef",
   "metadata": {},
   "source": [
    "### Task #7: Create two matrices of sizes 2x2 and 2x3, fill them with random integers in the range from 1 to 10, and multiply them together."
   ]
  },
  {
   "cell_type": "code",
   "execution_count": 8,
   "id": "cbd37674-ec5f-4cbc-b4c1-766ddf3ce753",
   "metadata": {},
   "outputs": [
    {
     "name": "stdout",
     "output_type": "stream",
     "text": [
      "First array:\n",
      "[[2 9]\n",
      " [9 8]]\n",
      "Second array:\n",
      "[[5 4 6]\n",
      " [6 1 3]]\n",
      "Multiplication:\n",
      "[[64 17 39]\n",
      " [93 44 78]]\n"
     ]
    }
   ],
   "source": [
    "array_1 = np.random.randint(1, 10, size=(2, 2))\n",
    "array_2 = np.random.randint(1, 10, size=(2, 3))\n",
    "\n",
    "mult_array = np.dot(array_1, array_2)\n",
    "\n",
    "print(f\"First array:\\n{array_1}\\nSecond array:\\n{array_2}\\nMultiplication:\\n{mult_array}\")"
   ]
  },
  {
   "cell_type": "markdown",
   "id": "73af09d7-80f3-484b-8787-9198d828e523",
   "metadata": {},
   "source": [
    "### Task #8: Create a matrix of size 3x3, fill it with random integers in the range from 1 to 10, and find its inverse matrix."
   ]
  },
  {
   "cell_type": "code",
   "execution_count": 9,
   "id": "0c441861-4dca-43bd-8d2c-14bbf9bef34e",
   "metadata": {},
   "outputs": [
    {
     "name": "stdout",
     "output_type": "stream",
     "text": [
      "Array:\n",
      "[[3 1 1]\n",
      " [5 4 7]\n",
      " [5 2 8]]\n",
      "Inverse matrix:\n",
      "[[ 0.46153846 -0.15384615  0.07692308]\n",
      " [-0.12820513  0.48717949 -0.41025641]\n",
      " [-0.25641026 -0.02564103  0.17948718]]\n"
     ]
    }
   ],
   "source": [
    "array = np.random.randint(1, 10, size=(3, 3))\n",
    "\n",
    "array_inv = np.linalg.inv(array)\n",
    "\n",
    "print(f\"Array:\\n{array}\\nInverse matrix:\\n{array_inv}\")"
   ]
  },
  {
   "cell_type": "markdown",
   "id": "b1447941-8e74-496e-94ab-26156bee727a",
   "metadata": {},
   "source": [
    "### Task #9: Create a matrix of size 4x4, fill it with random floating-point numbers in the range from 0 to 1, and transpose it."
   ]
  },
  {
   "cell_type": "code",
   "execution_count": 10,
   "id": "12fe876c-b0cb-4564-a041-9ec1f840ef80",
   "metadata": {},
   "outputs": [
    {
     "name": "stdout",
     "output_type": "stream",
     "text": [
      "Array:\n",
      "[[0.40013393 0.17291138 0.16405078 0.39154941]\n",
      " [0.42800305 0.65721444 0.12530371 0.20845297]\n",
      " [0.67295341 0.31416412 0.00734399 0.5520248 ]\n",
      " [0.12879555 0.60241815 0.39122363 0.03628238]]\n",
      "Transpose array:\n",
      "[[0.40013393 0.42800305 0.67295341 0.12879555]\n",
      " [0.17291138 0.65721444 0.31416412 0.60241815]\n",
      " [0.16405078 0.12530371 0.00734399 0.39122363]\n",
      " [0.39154941 0.20845297 0.5520248  0.03628238]]\n"
     ]
    }
   ],
   "source": [
    "array = np.random.random((4, 4))\n",
    "\n",
    "print(f\"Array:\\n{array}\\nTranspose array:\\n{array.T}\")"
   ]
  },
  {
   "cell_type": "markdown",
   "id": "aed63121-682f-4b03-a079-89db7854624f",
   "metadata": {},
   "source": [
    "### Task #10: Create a matrix of size 3x4 and a vector of size 4, fill them with random integers in the range from 1 to 10, and multiply the matrix by the vector."
   ]
  },
  {
   "cell_type": "code",
   "execution_count": 11,
   "id": "85193a85-cd76-4a23-a075-b1f93587fbe8",
   "metadata": {},
   "outputs": [
    {
     "name": "stdout",
     "output_type": "stream",
     "text": [
      "Array:\n",
      "[[9 3 1 4]\n",
      " [9 6 3 4]\n",
      " [3 9 8 7]]\n",
      "Vector:\n",
      "[4 5 9 9]\n",
      "Multiplication:\n",
      "[ 96 129 192]\n"
     ]
    }
   ],
   "source": [
    "array = np.random.randint(1, 10, size=(3, 4))\n",
    "vector = np.random.randint(1, 10, size=4)\n",
    "\n",
    "mult_array = np.dot(array, vector)\n",
    "\n",
    "print(f\"Array:\\n{array}\\nVector:\\n{vector}\\nMultiplication:\\n{mult_array}\")"
   ]
  },
  {
   "cell_type": "markdown",
   "id": "407bdd47-307e-4e80-85bb-2f6f808c7827",
   "metadata": {},
   "source": [
    "### Task #11: Create a matrix of size 2x3 and a vector of size 3, fill them with random floating-point numbers in the range from 0 to 1, and multiply the matrix by the vector."
   ]
  },
  {
   "cell_type": "code",
   "execution_count": 12,
   "id": "4207acfd-4a7e-47c9-9b24-3305a7988dcb",
   "metadata": {},
   "outputs": [
    {
     "name": "stdout",
     "output_type": "stream",
     "text": [
      "Array:\n",
      "[[0.93367934 0.4674106  0.18357461]\n",
      " [0.92128655 0.59936056 0.1772094 ]]\n",
      "Vector:\n",
      "[0.83537475 0.44750342 0.75981384]\n",
      "Multiplication:\n",
      "[1.12862251 1.17248157]\n"
     ]
    }
   ],
   "source": [
    "array = np.random.random((2, 3))\n",
    "vector = np.random.random(3)\n",
    "\n",
    "mult_array = np.dot(array, vector)\n",
    "\n",
    "print(f\"Array:\\n{array}\\nVector:\\n{vector}\\nMultiplication:\\n{mult_array}\")"
   ]
  },
  {
   "cell_type": "markdown",
   "id": "e557f066-cf6a-43e6-92dd-b11faaee5987",
   "metadata": {},
   "source": [
    "### Task #12: Create two matrices of size 2x2, fill them with random integers in the range from 1 to 10, and perform element-wise multiplication on them."
   ]
  },
  {
   "cell_type": "code",
   "execution_count": 13,
   "id": "e5ea432a-2d0c-4142-be1e-16de7491119c",
   "metadata": {},
   "outputs": [
    {
     "name": "stdout",
     "output_type": "stream",
     "text": [
      "First array:\n",
      "[[7 6]\n",
      " [2 8]]\n",
      "Second array:\n",
      "[[8 8]\n",
      " [4 9]]\n",
      "Multiplication by elements:\n",
      "[[56 48]\n",
      " [ 8 72]]\n"
     ]
    }
   ],
   "source": [
    "array_1 = np.random.randint(1, 10, size=(2, 2))\n",
    "array_2 = np.random.randint(1, 10, size=(2, 2))\n",
    "\n",
    "print(f\"First array:\\n{array_1}\\nSecond array:\\n{array_2}\\nMultiplication by elements:\\n{array_1 * array_2}\")"
   ]
  },
  {
   "cell_type": "markdown",
   "id": "ee01fb2c-91ce-4d0d-bae1-c9769e3536e4",
   "metadata": {},
   "source": [
    "### Task #13: Create two matrices of size 2x2, fill them with random integers in the range from 1 to 10, and find their product."
   ]
  },
  {
   "cell_type": "code",
   "execution_count": 14,
   "id": "1a5c42f3-4219-4729-ac1d-3c7e1f18dff6",
   "metadata": {},
   "outputs": [
    {
     "name": "stdout",
     "output_type": "stream",
     "text": [
      "First array:\n",
      "[[2 4]\n",
      " [3 3]]\n",
      "Second array:\n",
      "[[8 7]\n",
      " [3 2]]\n",
      "Multiplication:\n",
      "[[28 22]\n",
      " [33 27]]\n"
     ]
    }
   ],
   "source": [
    "array_1 = np.random.randint(1, 10, size=(2, 2))\n",
    "array_2 = np.random.randint(1, 10, size=(2, 2))\n",
    "\n",
    "mult_array = np.dot(array_1, array_2)\n",
    "\n",
    "print(f\"First array:\\n{array_1}\\nSecond array:\\n{array_2}\\nMultiplication:\\n{mult_array}\")"
   ]
  },
  {
   "cell_type": "markdown",
   "id": "db17e351-6756-436f-8d29-bc79700585ec",
   "metadata": {},
   "source": [
    "### Task #14: Create a matrix of size 5x5, fill it with random integers in the range from 1 to 100, and find the sum of the elements in the matrix."
   ]
  },
  {
   "cell_type": "code",
   "execution_count": 15,
   "id": "d50ea579-5c39-44d3-99e6-8f8f6885a313",
   "metadata": {},
   "outputs": [
    {
     "name": "stdout",
     "output_type": "stream",
     "text": [
      "Array:\n",
      "[[38 59 14 74 65]\n",
      " [39 91  2 99 55]\n",
      " [63 38  1 29 80]\n",
      " [46 22 91 12 38]\n",
      " [45 89 18 15 49]]\n",
      "Sum:\n",
      "1172\n"
     ]
    }
   ],
   "source": [
    "array = np.random.randint(1, 100, size=(5, 5))\n",
    "\n",
    "print(f\"Array:\\n{array}\\nSum:\\n{array.sum()}\")"
   ]
  },
  {
   "cell_type": "markdown",
   "id": "47a20b0c-015e-4873-bf7f-1360ec43b204",
   "metadata": {},
   "source": [
    "### Task #15: Create two matrices of size 4x4, fill them with random integers in the range from 1 to 10, and find their difference."
   ]
  },
  {
   "cell_type": "code",
   "execution_count": 16,
   "id": "6f908331-40d7-4d80-8fff-3424b12df1ee",
   "metadata": {},
   "outputs": [
    {
     "name": "stdout",
     "output_type": "stream",
     "text": [
      "First array:\n",
      "[[8 4 6 5]\n",
      " [9 3 2 7]\n",
      " [5 3 1 6]\n",
      " [5 3 9 3]]\n",
      "Second array:\n",
      "[[1 2 6 6]\n",
      " [3 6 5 2]\n",
      " [1 4 9 4]\n",
      " [1 9 4 9]]\n",
      "Difference:\n",
      "[[ 7  2  0 -1]\n",
      " [ 6 -3 -3  5]\n",
      " [ 4 -1 -8  2]\n",
      " [ 4 -6  5 -6]]\n"
     ]
    }
   ],
   "source": [
    "array_1 = np.random.randint(1, 10, size=(4, 4))\n",
    "array_2 = np.random.randint(1, 10, size=(4, 4))\n",
    "\n",
    "difference = array_1 - array_2\n",
    "\n",
    "print(f\"First array:\\n{array_1}\\nSecond array:\\n{array_2}\\nDifference:\\n{difference}\")"
   ]
  },
  {
   "cell_type": "markdown",
   "id": "f86274ba-a679-4944-a8b7-9c1ed8726739",
   "metadata": {},
   "source": [
    "### Task #16: Create a matrix of size 3x3, fill it with random floating-point numbers in the range from 0 to 1, and find a column vector containing the sum of the elements in each row of the matrix."
   ]
  },
  {
   "cell_type": "code",
   "execution_count": 17,
   "id": "188fb326-b4a3-4394-8b2a-1a9817936ff6",
   "metadata": {},
   "outputs": [
    {
     "name": "stdout",
     "output_type": "stream",
     "text": [
      "Array:\n",
      "[[0.00516302 0.35001112 0.14263538]\n",
      " [0.36441917 0.55810541 0.29486501]\n",
      " [0.17146258 0.70578149 0.6904827 ]]\n",
      "Сolumn where the sum of the elements of each row of the array:[0.49780952 1.2173896  1.56772677]\n"
     ]
    }
   ],
   "source": [
    "array = np.random.random((3,3))\n",
    "\n",
    "column_sums = np.sum(array, axis = 1)\n",
    "\n",
    "print(f\"Array:\\n{array}\\nСolumn where the sum of the elements of each row of the array:{column_sums}\") "
   ]
  },
  {
   "cell_type": "markdown",
   "id": "c9e665aa-b505-4a2e-bb56-da22328dd616",
   "metadata": {},
   "source": [
    "### Task #17: Create a matrix of size 3x4 with arbitrary integers and create a matrix containing the squares of these numbers."
   ]
  },
  {
   "cell_type": "code",
   "execution_count": 18,
   "id": "e0fcefca-cdaa-4646-b0c5-b33686885bc8",
   "metadata": {},
   "outputs": [
    {
     "name": "stdout",
     "output_type": "stream",
     "text": [
      "Array:\n",
      "[[4 4 3 4]\n",
      " [3 1 3 3]\n",
      " [4 4 1 1]]\n",
      "Squared array:\n",
      "[[16 16  9 16]\n",
      " [ 9  1  9  9]\n",
      " [16 16  1  1]]\n"
     ]
    }
   ],
   "source": [
    "array = np.random.randint(1, 5, size=(3, 4))\n",
    "\n",
    "squared_array = np.square(array)\n",
    "\n",
    "print(f\"Array:\\n{array}\\nSquared array:\\n{squared_array}\")"
   ]
  },
  {
   "cell_type": "markdown",
   "id": "2ed48662-9874-47a1-a1f7-1872f8491c46",
   "metadata": {},
   "source": [
    "### Task #18: Create a vector of size 4, fill it with random integers in the range from 1 to 50, and find a vector containing the square roots of these numbers."
   ]
  },
  {
   "cell_type": "code",
   "execution_count": 19,
   "id": "7c85a605-77ae-4595-bdc5-8544cb4bc4fa",
   "metadata": {},
   "outputs": [
    {
     "name": "stdout",
     "output_type": "stream",
     "text": [
      "Vector: [15 33 19  6]\n",
      "Vector with square roots of numbers: [3.87298335 5.74456265 4.35889894 2.44948974]\n"
     ]
    }
   ],
   "source": [
    "vector = np.random.randint(1, 50, size=4)\n",
    "\n",
    "sqrt_vector = np.sqrt(vector)\n",
    "\n",
    "print(f\"Vector: {vector}\\nVector with square roots of numbers: {sqrt_vector}\")"
   ]
  },
  {
   "cell_type": "markdown",
   "id": "823f1777-33d2-4ac6-9460-18701e45adcc",
   "metadata": {},
   "source": [
    "### Task #19: Replace all odd numbers in arr with -1. `arr = np.array([0, 1, 2, 3, 4, 5, 6, 7, 8, 9])`"
   ]
  },
  {
   "cell_type": "code",
   "execution_count": 21,
   "id": "46122101-adef-42b2-b9db-a87697285993",
   "metadata": {},
   "outputs": [
    {
     "name": "stdout",
     "output_type": "stream",
     "text": [
      "Array: [ 0 -1  2 -1  4 -1  6 -1  8 -1]\n"
     ]
    }
   ],
   "source": [
    "arr = np.array([0, 1, 2, 3, 4, 5, 6, 7, 8, 9])\n",
    "arr[arr % 2 != 0] = -1\n",
    "print(f\"Array: {arr}\")"
   ]
  },
  {
   "cell_type": "markdown",
   "id": "2aeaaaf4-c5ca-452f-9582-8041c1aff24d",
   "metadata": {},
   "source": [
    "### Task #20: Create a 1D array and reshape it into a 2D array with 2 rows."
   ]
  },
  {
   "cell_type": "code",
   "execution_count": 22,
   "id": "1d4c2b1b-35de-428f-aeb8-0857e4e08e47",
   "metadata": {},
   "outputs": [
    {
     "name": "stdout",
     "output_type": "stream",
     "text": [
      "One demension array:\n",
      "[6 5 5 7]\n",
      "Two demension array:\n",
      "[[6 5]\n",
      " [5 7]]\n"
     ]
    }
   ],
   "source": [
    "while True:\n",
    "    n = np.random.randint(1, 10)\n",
    "    if n % 2 == 0:\n",
    "        break\n",
    "\n",
    "one_demension = np.random.randint(1, 9, size=n)\n",
    "two_demension = one_demension.reshape(2, -1)\n",
    "\n",
    "print(f\"One demension array:\\n{one_demension}\\nTwo demension array:\\n{two_demension}\")"
   ]
  },
  {
   "cell_type": "markdown",
   "id": "a0feaaae-54e1-4f61-a38f-084be9c1b847",
   "metadata": {},
   "source": [
    "### Task #21: Create two two-dimensional arrays, a and b, and stack them vertically."
   ]
  },
  {
   "cell_type": "code",
   "execution_count": 23,
   "id": "53ea9f11-2fdb-4c26-965c-f10aa0e88ef0",
   "metadata": {},
   "outputs": [
    {
     "name": "stdout",
     "output_type": "stream",
     "text": [
      "Initial array a:\n",
      "[[6 3]\n",
      " [4 2]]\n",
      "Initial array b:\n",
      "[[7 8]\n",
      " [1 1]]\n",
      "The result of vertical folding:\n",
      "[[6 3]\n",
      " [4 2]\n",
      " [7 8]\n",
      " [1 1]]\n"
     ]
    }
   ],
   "source": [
    "a = np.random.randint(1, 9, size=(2, 2))\n",
    "b = np.random.randint(1, 9, size=(2, 2))\n",
    "\n",
    "vertical_folding = np.vstack((a, b))\n",
    "print(f\"Initial array a:\\n{a}\\nInitial array b:\\n{b}\\nThe result of vertical folding:\\n{vertical_folding}\")"
   ]
  },
  {
   "cell_type": "markdown",
   "id": "abc7ea3b-d055-44e2-b5d9-a7dede7cb63d",
   "metadata": {},
   "source": [
    "### Task #22: Create the following template without hard coding. Use only NumPy functions and the given input array.\n",
    "Input: `a = np.array([1,2,3])`  \n",
    "Output: `array([1, 1, 1, 2, 2, 2, 3, 3, 3, 1, 2, 3, 1, 2, 3, 1, 2, 3])`"
   ]
  },
  {
   "cell_type": "code",
   "execution_count": 24,
   "id": "40cffbf4-ff60-4f0b-b7a4-a9482a81cd9d",
   "metadata": {},
   "outputs": [
    {
     "name": "stdout",
     "output_type": "stream",
     "text": [
      "Input: [1 2 3]\n",
      "Output: [1 1 1 2 2 2 3 3 3 1 2 3 1 2 3 1 2 3]\n"
     ]
    }
   ],
   "source": [
    "a = np.array([1,2,3])\n",
    "\n",
    "repeat_a = np.repeat(a, 3)\n",
    "tile_a = np.tile(a, 3)\n",
    "result = np.concatenate((repeat_a, tile_a))\n",
    "\n",
    "print(f\"Input: {a}\\n\\\n",
    "Output: {result}\")"
   ]
  },
  {
   "cell_type": "markdown",
   "id": "9c6b91fc-b2c8-4858-9f6b-8e4006df52e6",
   "metadata": {},
   "source": [
    "### Task #23: Get the common elements between arrays a and b.\n",
    "\n",
    "`a = np.array([1,2,3,2,3,4,3,4,5,6])`\n",
    "`b = np.array([7,2,10,2,7,4,9,4,9,8])`"
   ]
  },
  {
   "cell_type": "code",
   "execution_count": 25,
   "id": "df4bcfde-9a0b-42a2-bc56-4b5a044fb007",
   "metadata": {},
   "outputs": [
    {
     "name": "stdout",
     "output_type": "stream",
     "text": [
      "Common elements between a and b [2 4]\n"
     ]
    }
   ],
   "source": [
    "a = np.array([1,2,3,2,3,4,3,4,5,6])\n",
    "b = np.array([7,2,10,2,7,4,9,4,9,8])\n",
    "\n",
    "common_elements = np.intersect1d(a, b)\n",
    "print(f\"Common elements between a and b {common_elements}\")"
   ]
  },
  {
   "cell_type": "markdown",
   "id": "fa967b93-3bd5-48f9-be96-fa412e312789",
   "metadata": {},
   "source": [
    "### Task #24: Get the indices of the first 5 maximum values in the given array a.\n",
    "\n",
    "`np.random.seed(100)`\n",
    "`a = np.random.uniform(1,50, 20)`"
   ]
  },
  {
   "cell_type": "code",
   "execution_count": 26,
   "id": "9d2b4ba0-9f2f-4749-8820-9227bd3af61f",
   "metadata": {},
   "outputs": [
    {
     "name": "stdout",
     "output_type": "stream",
     "text": [
      "Array:\n",
      "[27.62684215 14.64009987 21.80136195 42.39403048  1.23122395  6.95688692\n",
      " 33.86670515 41.466785    7.69862289 29.17957314 44.67477576 11.25090398\n",
      " 10.08108276  6.31046763 11.76517714 48.95256545 40.77247431  9.42510962\n",
      " 40.99501269 14.42961361]\n",
      "Top 5 indices: [15 10  3  7 18]\n"
     ]
    }
   ],
   "source": [
    "np.random.seed(100) \n",
    "a = np.random.uniform(1,50, 20)\n",
    "\n",
    "sorted_indices = a.argsort()[::-1]\n",
    "top_5_indices = sorted_indices[:5]\n",
    "\n",
    "print(f\"Array:\\n{a}\\n\\\n",
    "Top 5 indices: {top_5_indices}\")"
   ]
  },
  {
   "cell_type": "markdown",
   "id": "d94c4ace-1081-4456-a967-c660fe84f6a6",
   "metadata": {},
   "source": [
    "### Task #25: Remove all NaN values from a one-dimensional array.\n",
    "`а=np.array([1,2,3,np.nan,5,6,7,np.nan])`"
   ]
  },
  {
   "cell_type": "code",
   "execution_count": 27,
   "id": "86a32235-7d66-44aa-a44d-71ba277be4f9",
   "metadata": {},
   "outputs": [
    {
     "name": "stdout",
     "output_type": "stream",
     "text": [
      "Cleaned array a_array [1. 2. 3. 5. 6. 7.]\n"
     ]
    }
   ],
   "source": [
    "a_array = np.array([1,2,3,np.nan,5,6,7,np.nan])\n",
    "\n",
    "a_cleaned = a_array[~np.isnan(a_array)]\n",
    "\n",
    "print(f\"Cleaned array a_array {a_cleaned}\")"
   ]
  },
  {
   "cell_type": "markdown",
   "id": "1d25a03f-c4e2-4844-b409-df1501a6f176",
   "metadata": {},
   "source": [
    "### Task #26: Calculate the Euclidean distance between two arrays, a and b.\n",
    "\n",
    "`a = np.array([1,2,3,4,5])` `b = np.array([4,5,6,7,8])`"
   ]
  },
  {
   "cell_type": "code",
   "execution_count": 28,
   "id": "c268953e-6f05-46e3-bfa5-e579fe8db2e4",
   "metadata": {},
   "outputs": [
    {
     "name": "stdout",
     "output_type": "stream",
     "text": [
      "The Euclidean distance between arrays a and b: 6.708203932499369\n",
      "The Euclidean distance between arrays a and b: 6.708203932499369\n"
     ]
    }
   ],
   "source": [
    "a = np.array([1,2,3,4,5]) \n",
    "b = np.array([4,5,6,7,8])\n",
    "\n",
    "distance_1 = np.sqrt(sum((pow(b[i] - a[i], 2) for i in range(len(a)))))\n",
    "distance_2 = np.linalg.norm(a - b)\n",
    "\n",
    "print(f\"The Euclidean distance between arrays a and b: {distance_1}\\n\\\n",
    "The Euclidean distance between arrays a and b: {distance_2}\")"
   ]
  },
  {
   "cell_type": "markdown",
   "id": "f7dd6bc7-bed1-4672-9807-2acc79a71887",
   "metadata": {},
   "source": [
    "### Task #27: Find the index of the 5th occurrence of the number 1 in the array x.\n",
    "\n",
    "`x = np.array([1, 2, 1, 1, 3, 4, 3, 1, 1, 2, 1, 1, 2])`"
   ]
  },
  {
   "cell_type": "code",
   "execution_count": 29,
   "id": "5fb2c30e-3e0b-456e-95eb-2129bf54bcb7",
   "metadata": {},
   "outputs": [
    {
     "name": "stdout",
     "output_type": "stream",
     "text": [
      "Number: 1\n",
      "Index of the 5th repetition: 10\n"
     ]
    }
   ],
   "source": [
    "x = np.array([1, 2, 1, 1, 3, 4, 3, 1, 1, 2, 1, 1, 2])\n",
    "\n",
    "unique_values = np.unique(x)\n",
    "\n",
    "for num in unique_values:\n",
    "    indices = np.where(x == num)[0]\n",
    "    if len(indices) > 4: \n",
    "        print(f\"Number: {num}\\nIndex of the 5th repetition: {indices[5]}\")"
   ]
  },
  {
   "cell_type": "markdown",
   "id": "6c504090-51fb-4b4c-954d-9063dc0b130b",
   "metadata": {},
   "source": [
    "### Task #28: Identify repeated entries in the given array and mark them as True, starting from the second occurrence. The first occurrence should be marked as False.\n",
    "\n",
    "Input: `np.random.seed(100)` `a = np.random.randint(0, 5, 10)` `[0 0 3 0 2 4 2 2 2 2]`  \n",
    "Output: `[False True False True False False True True True True]`"
   ]
  },
  {
   "cell_type": "code",
   "execution_count": 31,
   "id": "f994a51c-dad8-4dc0-b398-8eebac986c6b",
   "metadata": {},
   "outputs": [
    {
     "name": "stdout",
     "output_type": "stream",
     "text": [
      "Input: [0 0 3 0 2 4 2 2 2 2]\n",
      "Output: [False  True False  True False False  True  True  True  True]\n"
     ]
    }
   ],
   "source": [
    "np.random.seed(100) \n",
    "a = np.random.randint(0, 5, 10)\n",
    "unique_values = np.unique(a)\n",
    "\n",
    "output = np.zeros_like(a, dtype=bool)\n",
    "\n",
    "for num in unique_values:\n",
    "    indices = np.where(a == num)[0]\n",
    "    if len(indices) > 1:\n",
    "        output[indices[1:]] = True\n",
    "print(f\"Input: {a}\\nOutput: {output}\")"
   ]
  }
 ],
 "metadata": {
  "kernelspec": {
   "display_name": "Python 3 (ipykernel)",
   "language": "python",
   "name": "python3"
  },
  "language_info": {
   "codemirror_mode": {
    "name": "ipython",
    "version": 3
   },
   "file_extension": ".py",
   "mimetype": "text/x-python",
   "name": "python",
   "nbconvert_exporter": "python",
   "pygments_lexer": "ipython3",
   "version": "3.12.7"
  }
 },
 "nbformat": 4,
 "nbformat_minor": 5
}
